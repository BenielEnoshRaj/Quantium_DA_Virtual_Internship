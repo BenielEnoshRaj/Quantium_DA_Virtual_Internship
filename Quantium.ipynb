{
  "nbformat": 4,
  "nbformat_minor": 0,
  "metadata": {
    "colab": {
      "name": "Quantium.ipynb",
      "provenance": [],
      "collapsed_sections": []
    },
    "kernelspec": {
      "name": "python3",
      "display_name": "Python 3"
    }
  },
  "cells": [
    {
      "cell_type": "code",
      "metadata": {
        "id": "UfLXlYGnGkzH",
        "colab_type": "code",
        "colab": {}
      },
      "source": [
        "import pandas as pd\n",
        "import numpy as np\n",
        "import seaborn as sns\n",
        "from datetime import datetime"
      ],
      "execution_count": null,
      "outputs": []
    },
    {
      "cell_type": "markdown",
      "metadata": {
        "id": "G3kQDoYztXvv",
        "colab_type": "text"
      },
      "source": [
        "**TRANSACTION DATA**"
      ]
    },
    {
      "cell_type": "code",
      "metadata": {
        "id": "vk7-2s_zH3eh",
        "colab_type": "code",
        "colab": {}
      },
      "source": [
        "transaction_data = pd.read_excel(\"/content/QVI_transaction_data.xlsx\")"
      ],
      "execution_count": null,
      "outputs": []
    },
    {
      "cell_type": "code",
      "metadata": {
        "id": "xg3Q6g0OMI7n",
        "colab_type": "code",
        "colab": {
          "base_uri": "https://localhost:8080/",
          "height": 375
        },
        "outputId": "41499f94-f235-4599-c636-86f9706d6e48"
      },
      "source": [
        "transaction_data.describe(include = 'all')"
      ],
      "execution_count": null,
      "outputs": [
        {
          "output_type": "execute_result",
          "data": {
            "text/html": [
              "<div>\n",
              "<style scoped>\n",
              "    .dataframe tbody tr th:only-of-type {\n",
              "        vertical-align: middle;\n",
              "    }\n",
              "\n",
              "    .dataframe tbody tr th {\n",
              "        vertical-align: top;\n",
              "    }\n",
              "\n",
              "    .dataframe thead th {\n",
              "        text-align: right;\n",
              "    }\n",
              "</style>\n",
              "<table border=\"1\" class=\"dataframe\">\n",
              "  <thead>\n",
              "    <tr style=\"text-align: right;\">\n",
              "      <th></th>\n",
              "      <th>DATE</th>\n",
              "      <th>STORE_NBR</th>\n",
              "      <th>LYLTY_CARD_NBR</th>\n",
              "      <th>TXN_ID</th>\n",
              "      <th>PROD_NBR</th>\n",
              "      <th>PROD_NAME</th>\n",
              "      <th>PROD_QTY</th>\n",
              "      <th>TOT_SALES</th>\n",
              "    </tr>\n",
              "  </thead>\n",
              "  <tbody>\n",
              "    <tr>\n",
              "      <th>count</th>\n",
              "      <td>264836.000000</td>\n",
              "      <td>264836.00000</td>\n",
              "      <td>2.648360e+05</td>\n",
              "      <td>2.648360e+05</td>\n",
              "      <td>264836.000000</td>\n",
              "      <td>264836</td>\n",
              "      <td>264836.000000</td>\n",
              "      <td>264836.000000</td>\n",
              "    </tr>\n",
              "    <tr>\n",
              "      <th>unique</th>\n",
              "      <td>NaN</td>\n",
              "      <td>NaN</td>\n",
              "      <td>NaN</td>\n",
              "      <td>NaN</td>\n",
              "      <td>NaN</td>\n",
              "      <td>114</td>\n",
              "      <td>NaN</td>\n",
              "      <td>NaN</td>\n",
              "    </tr>\n",
              "    <tr>\n",
              "      <th>top</th>\n",
              "      <td>NaN</td>\n",
              "      <td>NaN</td>\n",
              "      <td>NaN</td>\n",
              "      <td>NaN</td>\n",
              "      <td>NaN</td>\n",
              "      <td>Kettle Mozzarella   Basil &amp; Pesto 175g</td>\n",
              "      <td>NaN</td>\n",
              "      <td>NaN</td>\n",
              "    </tr>\n",
              "    <tr>\n",
              "      <th>freq</th>\n",
              "      <td>NaN</td>\n",
              "      <td>NaN</td>\n",
              "      <td>NaN</td>\n",
              "      <td>NaN</td>\n",
              "      <td>NaN</td>\n",
              "      <td>3304</td>\n",
              "      <td>NaN</td>\n",
              "      <td>NaN</td>\n",
              "    </tr>\n",
              "    <tr>\n",
              "      <th>mean</th>\n",
              "      <td>43464.036260</td>\n",
              "      <td>135.08011</td>\n",
              "      <td>1.355495e+05</td>\n",
              "      <td>1.351583e+05</td>\n",
              "      <td>56.583157</td>\n",
              "      <td>NaN</td>\n",
              "      <td>1.907309</td>\n",
              "      <td>7.304200</td>\n",
              "    </tr>\n",
              "    <tr>\n",
              "      <th>std</th>\n",
              "      <td>105.389282</td>\n",
              "      <td>76.78418</td>\n",
              "      <td>8.057998e+04</td>\n",
              "      <td>7.813303e+04</td>\n",
              "      <td>32.826638</td>\n",
              "      <td>NaN</td>\n",
              "      <td>0.643654</td>\n",
              "      <td>3.083226</td>\n",
              "    </tr>\n",
              "    <tr>\n",
              "      <th>min</th>\n",
              "      <td>43282.000000</td>\n",
              "      <td>1.00000</td>\n",
              "      <td>1.000000e+03</td>\n",
              "      <td>1.000000e+00</td>\n",
              "      <td>1.000000</td>\n",
              "      <td>NaN</td>\n",
              "      <td>1.000000</td>\n",
              "      <td>1.500000</td>\n",
              "    </tr>\n",
              "    <tr>\n",
              "      <th>25%</th>\n",
              "      <td>43373.000000</td>\n",
              "      <td>70.00000</td>\n",
              "      <td>7.002100e+04</td>\n",
              "      <td>6.760150e+04</td>\n",
              "      <td>28.000000</td>\n",
              "      <td>NaN</td>\n",
              "      <td>2.000000</td>\n",
              "      <td>5.400000</td>\n",
              "    </tr>\n",
              "    <tr>\n",
              "      <th>50%</th>\n",
              "      <td>43464.000000</td>\n",
              "      <td>130.00000</td>\n",
              "      <td>1.303575e+05</td>\n",
              "      <td>1.351375e+05</td>\n",
              "      <td>56.000000</td>\n",
              "      <td>NaN</td>\n",
              "      <td>2.000000</td>\n",
              "      <td>7.400000</td>\n",
              "    </tr>\n",
              "    <tr>\n",
              "      <th>75%</th>\n",
              "      <td>43555.000000</td>\n",
              "      <td>203.00000</td>\n",
              "      <td>2.030942e+05</td>\n",
              "      <td>2.027012e+05</td>\n",
              "      <td>85.000000</td>\n",
              "      <td>NaN</td>\n",
              "      <td>2.000000</td>\n",
              "      <td>9.200000</td>\n",
              "    </tr>\n",
              "    <tr>\n",
              "      <th>max</th>\n",
              "      <td>43646.000000</td>\n",
              "      <td>272.00000</td>\n",
              "      <td>2.373711e+06</td>\n",
              "      <td>2.415841e+06</td>\n",
              "      <td>114.000000</td>\n",
              "      <td>NaN</td>\n",
              "      <td>200.000000</td>\n",
              "      <td>650.000000</td>\n",
              "    </tr>\n",
              "  </tbody>\n",
              "</table>\n",
              "</div>"
            ],
            "text/plain": [
              "                 DATE     STORE_NBR  ...       PROD_QTY      TOT_SALES\n",
              "count   264836.000000  264836.00000  ...  264836.000000  264836.000000\n",
              "unique            NaN           NaN  ...            NaN            NaN\n",
              "top               NaN           NaN  ...            NaN            NaN\n",
              "freq              NaN           NaN  ...            NaN            NaN\n",
              "mean     43464.036260     135.08011  ...       1.907309       7.304200\n",
              "std        105.389282      76.78418  ...       0.643654       3.083226\n",
              "min      43282.000000       1.00000  ...       1.000000       1.500000\n",
              "25%      43373.000000      70.00000  ...       2.000000       5.400000\n",
              "50%      43464.000000     130.00000  ...       2.000000       7.400000\n",
              "75%      43555.000000     203.00000  ...       2.000000       9.200000\n",
              "max      43646.000000     272.00000  ...     200.000000     650.000000\n",
              "\n",
              "[11 rows x 8 columns]"
            ]
          },
          "metadata": {
            "tags": []
          },
          "execution_count": 341
        }
      ]
    },
    {
      "cell_type": "markdown",
      "metadata": {
        "id": "hC2P6tsCctqS",
        "colab_type": "text"
      },
      "source": [
        "Note : The numeric data are of the correct dtype\n",
        "\n",
        "if that were not the case transaction_data = transactional_data.astype({\"PROD_NBR\" : int})"
      ]
    },
    {
      "cell_type": "code",
      "metadata": {
        "id": "tcMQj0WENKay",
        "colab_type": "code",
        "colab": {
          "base_uri": "https://localhost:8080/",
          "height": 196
        },
        "outputId": "5adfe1d2-51bf-4143-fb68-ad7aebd0c9cc"
      },
      "source": [
        "transaction_data.head()"
      ],
      "execution_count": null,
      "outputs": [
        {
          "output_type": "execute_result",
          "data": {
            "text/html": [
              "<div>\n",
              "<style scoped>\n",
              "    .dataframe tbody tr th:only-of-type {\n",
              "        vertical-align: middle;\n",
              "    }\n",
              "\n",
              "    .dataframe tbody tr th {\n",
              "        vertical-align: top;\n",
              "    }\n",
              "\n",
              "    .dataframe thead th {\n",
              "        text-align: right;\n",
              "    }\n",
              "</style>\n",
              "<table border=\"1\" class=\"dataframe\">\n",
              "  <thead>\n",
              "    <tr style=\"text-align: right;\">\n",
              "      <th></th>\n",
              "      <th>DATE</th>\n",
              "      <th>STORE_NBR</th>\n",
              "      <th>LYLTY_CARD_NBR</th>\n",
              "      <th>TXN_ID</th>\n",
              "      <th>PROD_NBR</th>\n",
              "      <th>PROD_NAME</th>\n",
              "      <th>PROD_QTY</th>\n",
              "      <th>TOT_SALES</th>\n",
              "    </tr>\n",
              "  </thead>\n",
              "  <tbody>\n",
              "    <tr>\n",
              "      <th>0</th>\n",
              "      <td>43390</td>\n",
              "      <td>1</td>\n",
              "      <td>1000</td>\n",
              "      <td>1</td>\n",
              "      <td>5</td>\n",
              "      <td>Natural Chip        Compny SeaSalt175g</td>\n",
              "      <td>2</td>\n",
              "      <td>6.0</td>\n",
              "    </tr>\n",
              "    <tr>\n",
              "      <th>1</th>\n",
              "      <td>43599</td>\n",
              "      <td>1</td>\n",
              "      <td>1307</td>\n",
              "      <td>348</td>\n",
              "      <td>66</td>\n",
              "      <td>CCs Nacho Cheese    175g</td>\n",
              "      <td>3</td>\n",
              "      <td>6.3</td>\n",
              "    </tr>\n",
              "    <tr>\n",
              "      <th>2</th>\n",
              "      <td>43605</td>\n",
              "      <td>1</td>\n",
              "      <td>1343</td>\n",
              "      <td>383</td>\n",
              "      <td>61</td>\n",
              "      <td>Smiths Crinkle Cut  Chips Chicken 170g</td>\n",
              "      <td>2</td>\n",
              "      <td>2.9</td>\n",
              "    </tr>\n",
              "    <tr>\n",
              "      <th>3</th>\n",
              "      <td>43329</td>\n",
              "      <td>2</td>\n",
              "      <td>2373</td>\n",
              "      <td>974</td>\n",
              "      <td>69</td>\n",
              "      <td>Smiths Chip Thinly  S/Cream&amp;Onion 175g</td>\n",
              "      <td>5</td>\n",
              "      <td>15.0</td>\n",
              "    </tr>\n",
              "    <tr>\n",
              "      <th>4</th>\n",
              "      <td>43330</td>\n",
              "      <td>2</td>\n",
              "      <td>2426</td>\n",
              "      <td>1038</td>\n",
              "      <td>108</td>\n",
              "      <td>Kettle Tortilla ChpsHny&amp;Jlpno Chili 150g</td>\n",
              "      <td>3</td>\n",
              "      <td>13.8</td>\n",
              "    </tr>\n",
              "  </tbody>\n",
              "</table>\n",
              "</div>"
            ],
            "text/plain": [
              "    DATE  STORE_NBR  ...  PROD_QTY  TOT_SALES\n",
              "0  43390          1  ...         2        6.0\n",
              "1  43599          1  ...         3        6.3\n",
              "2  43605          1  ...         2        2.9\n",
              "3  43329          2  ...         5       15.0\n",
              "4  43330          2  ...         3       13.8\n",
              "\n",
              "[5 rows x 8 columns]"
            ]
          },
          "metadata": {
            "tags": []
          },
          "execution_count": 343
        }
      ]
    },
    {
      "cell_type": "code",
      "metadata": {
        "id": "H74PCLn0SeCa",
        "colab_type": "code",
        "colab": {}
      },
      "source": [
        "# Converting date from integer to date format\n",
        "\n",
        "transaction_data[\"DATE\"] = transaction_data.apply(lambda x :datetime.fromordinal(datetime(1900, 1, 1).toordinal() + x.DATE - 2),axis = 1)\n",
        "\n",
        "#-2 because the \"start date\" for Excel dates is actually the last day of 1899, and Excel assumes that 1900 was a leap year (it's not).\n",
        "#Therefore i day for 31/12/1899 and 1 for the miss calculated leap year \n",
        "# 1/1/1900 == 1 in excel, decimal value refer to time"
      ],
      "execution_count": null,
      "outputs": []
    },
    {
      "cell_type": "code",
      "metadata": {
        "id": "nESYWvmUNNKk",
        "colab_type": "code",
        "colab": {
          "base_uri": "https://localhost:8080/",
          "height": 435
        },
        "outputId": "b50202cb-2ada-4bfb-977e-5daaf112928f"
      },
      "source": [
        "transaction_data.describe(include = 'all')"
      ],
      "execution_count": null,
      "outputs": [
        {
          "output_type": "execute_result",
          "data": {
            "text/html": [
              "<div>\n",
              "<style scoped>\n",
              "    .dataframe tbody tr th:only-of-type {\n",
              "        vertical-align: middle;\n",
              "    }\n",
              "\n",
              "    .dataframe tbody tr th {\n",
              "        vertical-align: top;\n",
              "    }\n",
              "\n",
              "    .dataframe thead th {\n",
              "        text-align: right;\n",
              "    }\n",
              "</style>\n",
              "<table border=\"1\" class=\"dataframe\">\n",
              "  <thead>\n",
              "    <tr style=\"text-align: right;\">\n",
              "      <th></th>\n",
              "      <th>DATE</th>\n",
              "      <th>STORE_NBR</th>\n",
              "      <th>LYLTY_CARD_NBR</th>\n",
              "      <th>TXN_ID</th>\n",
              "      <th>PROD_NBR</th>\n",
              "      <th>PROD_NAME</th>\n",
              "      <th>PROD_QTY</th>\n",
              "      <th>TOT_SALES</th>\n",
              "    </tr>\n",
              "  </thead>\n",
              "  <tbody>\n",
              "    <tr>\n",
              "      <th>count</th>\n",
              "      <td>264836</td>\n",
              "      <td>264836.00000</td>\n",
              "      <td>2.648360e+05</td>\n",
              "      <td>2.648360e+05</td>\n",
              "      <td>264836.000000</td>\n",
              "      <td>264836</td>\n",
              "      <td>264836.000000</td>\n",
              "      <td>264836.000000</td>\n",
              "    </tr>\n",
              "    <tr>\n",
              "      <th>unique</th>\n",
              "      <td>364</td>\n",
              "      <td>NaN</td>\n",
              "      <td>NaN</td>\n",
              "      <td>NaN</td>\n",
              "      <td>NaN</td>\n",
              "      <td>114</td>\n",
              "      <td>NaN</td>\n",
              "      <td>NaN</td>\n",
              "    </tr>\n",
              "    <tr>\n",
              "      <th>top</th>\n",
              "      <td>2018-12-24 00:00:00</td>\n",
              "      <td>NaN</td>\n",
              "      <td>NaN</td>\n",
              "      <td>NaN</td>\n",
              "      <td>NaN</td>\n",
              "      <td>Kettle Mozzarella   Basil &amp; Pesto 175g</td>\n",
              "      <td>NaN</td>\n",
              "      <td>NaN</td>\n",
              "    </tr>\n",
              "    <tr>\n",
              "      <th>freq</th>\n",
              "      <td>939</td>\n",
              "      <td>NaN</td>\n",
              "      <td>NaN</td>\n",
              "      <td>NaN</td>\n",
              "      <td>NaN</td>\n",
              "      <td>3304</td>\n",
              "      <td>NaN</td>\n",
              "      <td>NaN</td>\n",
              "    </tr>\n",
              "    <tr>\n",
              "      <th>first</th>\n",
              "      <td>2018-07-01 00:00:00</td>\n",
              "      <td>NaN</td>\n",
              "      <td>NaN</td>\n",
              "      <td>NaN</td>\n",
              "      <td>NaN</td>\n",
              "      <td>NaN</td>\n",
              "      <td>NaN</td>\n",
              "      <td>NaN</td>\n",
              "    </tr>\n",
              "    <tr>\n",
              "      <th>last</th>\n",
              "      <td>2019-06-30 00:00:00</td>\n",
              "      <td>NaN</td>\n",
              "      <td>NaN</td>\n",
              "      <td>NaN</td>\n",
              "      <td>NaN</td>\n",
              "      <td>NaN</td>\n",
              "      <td>NaN</td>\n",
              "      <td>NaN</td>\n",
              "    </tr>\n",
              "    <tr>\n",
              "      <th>mean</th>\n",
              "      <td>NaN</td>\n",
              "      <td>135.08011</td>\n",
              "      <td>1.355495e+05</td>\n",
              "      <td>1.351583e+05</td>\n",
              "      <td>56.583157</td>\n",
              "      <td>NaN</td>\n",
              "      <td>1.907309</td>\n",
              "      <td>7.304200</td>\n",
              "    </tr>\n",
              "    <tr>\n",
              "      <th>std</th>\n",
              "      <td>NaN</td>\n",
              "      <td>76.78418</td>\n",
              "      <td>8.057998e+04</td>\n",
              "      <td>7.813303e+04</td>\n",
              "      <td>32.826638</td>\n",
              "      <td>NaN</td>\n",
              "      <td>0.643654</td>\n",
              "      <td>3.083226</td>\n",
              "    </tr>\n",
              "    <tr>\n",
              "      <th>min</th>\n",
              "      <td>NaN</td>\n",
              "      <td>1.00000</td>\n",
              "      <td>1.000000e+03</td>\n",
              "      <td>1.000000e+00</td>\n",
              "      <td>1.000000</td>\n",
              "      <td>NaN</td>\n",
              "      <td>1.000000</td>\n",
              "      <td>1.500000</td>\n",
              "    </tr>\n",
              "    <tr>\n",
              "      <th>25%</th>\n",
              "      <td>NaN</td>\n",
              "      <td>70.00000</td>\n",
              "      <td>7.002100e+04</td>\n",
              "      <td>6.760150e+04</td>\n",
              "      <td>28.000000</td>\n",
              "      <td>NaN</td>\n",
              "      <td>2.000000</td>\n",
              "      <td>5.400000</td>\n",
              "    </tr>\n",
              "    <tr>\n",
              "      <th>50%</th>\n",
              "      <td>NaN</td>\n",
              "      <td>130.00000</td>\n",
              "      <td>1.303575e+05</td>\n",
              "      <td>1.351375e+05</td>\n",
              "      <td>56.000000</td>\n",
              "      <td>NaN</td>\n",
              "      <td>2.000000</td>\n",
              "      <td>7.400000</td>\n",
              "    </tr>\n",
              "    <tr>\n",
              "      <th>75%</th>\n",
              "      <td>NaN</td>\n",
              "      <td>203.00000</td>\n",
              "      <td>2.030942e+05</td>\n",
              "      <td>2.027012e+05</td>\n",
              "      <td>85.000000</td>\n",
              "      <td>NaN</td>\n",
              "      <td>2.000000</td>\n",
              "      <td>9.200000</td>\n",
              "    </tr>\n",
              "    <tr>\n",
              "      <th>max</th>\n",
              "      <td>NaN</td>\n",
              "      <td>272.00000</td>\n",
              "      <td>2.373711e+06</td>\n",
              "      <td>2.415841e+06</td>\n",
              "      <td>114.000000</td>\n",
              "      <td>NaN</td>\n",
              "      <td>200.000000</td>\n",
              "      <td>650.000000</td>\n",
              "    </tr>\n",
              "  </tbody>\n",
              "</table>\n",
              "</div>"
            ],
            "text/plain": [
              "                       DATE     STORE_NBR  ...       PROD_QTY      TOT_SALES\n",
              "count                264836  264836.00000  ...  264836.000000  264836.000000\n",
              "unique                  364           NaN  ...            NaN            NaN\n",
              "top     2018-12-24 00:00:00           NaN  ...            NaN            NaN\n",
              "freq                    939           NaN  ...            NaN            NaN\n",
              "first   2018-07-01 00:00:00           NaN  ...            NaN            NaN\n",
              "last    2019-06-30 00:00:00           NaN  ...            NaN            NaN\n",
              "mean                    NaN     135.08011  ...       1.907309       7.304200\n",
              "std                     NaN      76.78418  ...       0.643654       3.083226\n",
              "min                     NaN       1.00000  ...       1.000000       1.500000\n",
              "25%                     NaN      70.00000  ...       2.000000       5.400000\n",
              "50%                     NaN     130.00000  ...       2.000000       7.400000\n",
              "75%                     NaN     203.00000  ...       2.000000       9.200000\n",
              "max                     NaN     272.00000  ...     200.000000     650.000000\n",
              "\n",
              "[13 rows x 8 columns]"
            ]
          },
          "metadata": {
            "tags": []
          },
          "execution_count": 345
        }
      ]
    },
    {
      "cell_type": "code",
      "metadata": {
        "id": "KiQ2wBthPEfj",
        "colab_type": "code",
        "colab": {
          "base_uri": "https://localhost:8080/",
          "height": 100
        },
        "outputId": "a4be56a2-8d24-4114-c198-664bc8069daa"
      },
      "source": [
        "transaction_data[\"PROD_NAME\"].describe()"
      ],
      "execution_count": null,
      "outputs": [
        {
          "output_type": "execute_result",
          "data": {
            "text/plain": [
              "count                                     264836\n",
              "unique                                       114\n",
              "top       Kettle Mozzarella   Basil & Pesto 175g\n",
              "freq                                        3304\n",
              "Name: PROD_NAME, dtype: object"
            ]
          },
          "metadata": {
            "tags": []
          },
          "execution_count": 346
        }
      ]
    },
    {
      "cell_type": "code",
      "metadata": {
        "id": "cJgchok4cNAX",
        "colab_type": "code",
        "colab": {}
      },
      "source": [
        "product_words = pd.DataFrame(transaction_data[\"PROD_NAME\"].unique())"
      ],
      "execution_count": null,
      "outputs": []
    },
    {
      "cell_type": "code",
      "metadata": {
        "id": "S0yIrIAbeKQn",
        "colab_type": "code",
        "colab": {
          "base_uri": "https://localhost:8080/",
          "height": 404
        },
        "outputId": "c1037661-df00-44e9-db0e-98205fe69aa0"
      },
      "source": [
        "product_words"
      ],
      "execution_count": null,
      "outputs": [
        {
          "output_type": "execute_result",
          "data": {
            "text/html": [
              "<div>\n",
              "<style scoped>\n",
              "    .dataframe tbody tr th:only-of-type {\n",
              "        vertical-align: middle;\n",
              "    }\n",
              "\n",
              "    .dataframe tbody tr th {\n",
              "        vertical-align: top;\n",
              "    }\n",
              "\n",
              "    .dataframe thead th {\n",
              "        text-align: right;\n",
              "    }\n",
              "</style>\n",
              "<table border=\"1\" class=\"dataframe\">\n",
              "  <thead>\n",
              "    <tr style=\"text-align: right;\">\n",
              "      <th></th>\n",
              "      <th>0</th>\n",
              "    </tr>\n",
              "  </thead>\n",
              "  <tbody>\n",
              "    <tr>\n",
              "      <th>0</th>\n",
              "      <td>Natural Chip        Compny SeaSalt175g</td>\n",
              "    </tr>\n",
              "    <tr>\n",
              "      <th>1</th>\n",
              "      <td>CCs Nacho Cheese    175g</td>\n",
              "    </tr>\n",
              "    <tr>\n",
              "      <th>2</th>\n",
              "      <td>Smiths Crinkle Cut  Chips Chicken 170g</td>\n",
              "    </tr>\n",
              "    <tr>\n",
              "      <th>3</th>\n",
              "      <td>Smiths Chip Thinly  S/Cream&amp;Onion 175g</td>\n",
              "    </tr>\n",
              "    <tr>\n",
              "      <th>4</th>\n",
              "      <td>Kettle Tortilla ChpsHny&amp;Jlpno Chili 150g</td>\n",
              "    </tr>\n",
              "    <tr>\n",
              "      <th>...</th>\n",
              "      <td>...</td>\n",
              "    </tr>\n",
              "    <tr>\n",
              "      <th>109</th>\n",
              "      <td>Red Rock Deli Chikn&amp;Garlic Aioli 150g</td>\n",
              "    </tr>\n",
              "    <tr>\n",
              "      <th>110</th>\n",
              "      <td>RRD SR Slow Rst     Pork Belly 150g</td>\n",
              "    </tr>\n",
              "    <tr>\n",
              "      <th>111</th>\n",
              "      <td>RRD Pc Sea Salt     165g</td>\n",
              "    </tr>\n",
              "    <tr>\n",
              "      <th>112</th>\n",
              "      <td>Smith Crinkle Cut   Bolognese 150g</td>\n",
              "    </tr>\n",
              "    <tr>\n",
              "      <th>113</th>\n",
              "      <td>Doritos Salsa Mild  300g</td>\n",
              "    </tr>\n",
              "  </tbody>\n",
              "</table>\n",
              "<p>114 rows × 1 columns</p>\n",
              "</div>"
            ],
            "text/plain": [
              "                                            0\n",
              "0      Natural Chip        Compny SeaSalt175g\n",
              "1                    CCs Nacho Cheese    175g\n",
              "2      Smiths Crinkle Cut  Chips Chicken 170g\n",
              "3      Smiths Chip Thinly  S/Cream&Onion 175g\n",
              "4    Kettle Tortilla ChpsHny&Jlpno Chili 150g\n",
              "..                                        ...\n",
              "109     Red Rock Deli Chikn&Garlic Aioli 150g\n",
              "110       RRD SR Slow Rst     Pork Belly 150g\n",
              "111                  RRD Pc Sea Salt     165g\n",
              "112        Smith Crinkle Cut   Bolognese 150g\n",
              "113                  Doritos Salsa Mild  300g\n",
              "\n",
              "[114 rows x 1 columns]"
            ]
          },
          "metadata": {
            "tags": []
          },
          "execution_count": 348
        }
      ]
    },
    {
      "cell_type": "code",
      "metadata": {
        "id": "pPXdmbTweL_t",
        "colab_type": "code",
        "colab": {}
      },
      "source": [
        "words = product_words"
      ],
      "execution_count": null,
      "outputs": []
    },
    {
      "cell_type": "code",
      "metadata": {
        "id": "d6mDO4yVfUjJ",
        "colab_type": "code",
        "colab": {}
      },
      "source": [
        "import re\n",
        "words = words.apply(lambda  x: \" \".join(re.findall(\"[a-zA-Z]+\", str(x))),axis =1)"
      ],
      "execution_count": null,
      "outputs": []
    },
    {
      "cell_type": "code",
      "metadata": {
        "id": "_xCmMQ7igPi1",
        "colab_type": "code",
        "colab": {
          "base_uri": "https://localhost:8080/",
          "height": 217
        },
        "outputId": "6e010aed-9c87-48eb-d93c-a16c8968505b"
      },
      "source": [
        "words"
      ],
      "execution_count": null,
      "outputs": [
        {
          "output_type": "execute_result",
          "data": {
            "text/plain": [
              "0        Natural Chip Compny SeaSalt g Name dtype object\n",
              "1                   CCs Nacho Cheese g Name dtype object\n",
              "2      Smiths Crinkle Cut Chips Chicken g Name dtype ...\n",
              "3      Smiths Chip Thinly S Cream Onion g Name dtype ...\n",
              "4      Kettle Tortilla ChpsHny Jlpno Chili g Name dty...\n",
              "                             ...                        \n",
              "109    Red Rock Deli Chikn Garlic Aioli g Name dtype ...\n",
              "110       RRD SR Slow Rst Pork Belly g Name dtype object\n",
              "111                  RRD Pc Sea Salt g Name dtype object\n",
              "112      Smith Crinkle Cut Bolognese g Name dtype object\n",
              "113               Doritos Salsa Mild g Name dtype object\n",
              "Length: 114, dtype: object"
            ]
          },
          "metadata": {
            "tags": []
          },
          "execution_count": 351
        }
      ]
    },
    {
      "cell_type": "code",
      "metadata": {
        "id": "78i4MQ_vjwzG",
        "colab_type": "code",
        "colab": {
          "base_uri": "https://localhost:8080/",
          "height": 100
        },
        "outputId": "75660599-9129-4d97-aa23-ead2076bfd07"
      },
      "source": [
        "words.describe()"
      ],
      "execution_count": null,
      "outputs": [
        {
          "output_type": "execute_result",
          "data": {
            "text/plain": [
              "count                                                 114\n",
              "unique                                                114\n",
              "top       Smith Crinkle Cut Bolognese g Name dtype object\n",
              "freq                                                    1\n",
              "dtype: object"
            ]
          },
          "metadata": {
            "tags": []
          },
          "execution_count": 352
        }
      ]
    },
    {
      "cell_type": "code",
      "metadata": {
        "id": "6qlVKMdZmFjK",
        "colab_type": "code",
        "colab": {}
      },
      "source": [
        "transaction_data[\"PROD_NAME\"] = transaction_data.apply(lambda x:\"salsa\" if re.findall('Salsa' , x.PROD_NAME ) else x.PROD_NAME ,axis= 1)"
      ],
      "execution_count": null,
      "outputs": []
    },
    {
      "cell_type": "code",
      "metadata": {
        "id": "cg3iXLU1opcB",
        "colab_type": "code",
        "colab": {}
      },
      "source": [
        "transaction_data= transaction_data[transaction_data.PROD_NAME != 'salsa']\n"
      ],
      "execution_count": null,
      "outputs": []
    },
    {
      "cell_type": "code",
      "metadata": {
        "id": "YnI2FmIkkoa8",
        "colab_type": "code",
        "colab": {
          "base_uri": "https://localhost:8080/",
          "height": 286
        },
        "outputId": "10755e60-b264-4983-c0fb-a49584d43afe"
      },
      "source": [
        "transaction_data.describe()"
      ],
      "execution_count": null,
      "outputs": [
        {
          "output_type": "execute_result",
          "data": {
            "text/html": [
              "<div>\n",
              "<style scoped>\n",
              "    .dataframe tbody tr th:only-of-type {\n",
              "        vertical-align: middle;\n",
              "    }\n",
              "\n",
              "    .dataframe tbody tr th {\n",
              "        vertical-align: top;\n",
              "    }\n",
              "\n",
              "    .dataframe thead th {\n",
              "        text-align: right;\n",
              "    }\n",
              "</style>\n",
              "<table border=\"1\" class=\"dataframe\">\n",
              "  <thead>\n",
              "    <tr style=\"text-align: right;\">\n",
              "      <th></th>\n",
              "      <th>STORE_NBR</th>\n",
              "      <th>LYLTY_CARD_NBR</th>\n",
              "      <th>TXN_ID</th>\n",
              "      <th>PROD_NBR</th>\n",
              "      <th>PROD_QTY</th>\n",
              "      <th>TOT_SALES</th>\n",
              "    </tr>\n",
              "  </thead>\n",
              "  <tbody>\n",
              "    <tr>\n",
              "      <th>count</th>\n",
              "      <td>246742.000000</td>\n",
              "      <td>2.467420e+05</td>\n",
              "      <td>2.467420e+05</td>\n",
              "      <td>246742.000000</td>\n",
              "      <td>246742.000000</td>\n",
              "      <td>246742.000000</td>\n",
              "    </tr>\n",
              "    <tr>\n",
              "      <th>mean</th>\n",
              "      <td>135.051098</td>\n",
              "      <td>1.355310e+05</td>\n",
              "      <td>1.351311e+05</td>\n",
              "      <td>56.351789</td>\n",
              "      <td>1.908062</td>\n",
              "      <td>7.321322</td>\n",
              "    </tr>\n",
              "    <tr>\n",
              "      <th>std</th>\n",
              "      <td>76.787096</td>\n",
              "      <td>8.071528e+04</td>\n",
              "      <td>7.814772e+04</td>\n",
              "      <td>33.695428</td>\n",
              "      <td>0.659831</td>\n",
              "      <td>3.077828</td>\n",
              "    </tr>\n",
              "    <tr>\n",
              "      <th>min</th>\n",
              "      <td>1.000000</td>\n",
              "      <td>1.000000e+03</td>\n",
              "      <td>1.000000e+00</td>\n",
              "      <td>1.000000</td>\n",
              "      <td>1.000000</td>\n",
              "      <td>1.700000</td>\n",
              "    </tr>\n",
              "    <tr>\n",
              "      <th>25%</th>\n",
              "      <td>70.000000</td>\n",
              "      <td>7.001500e+04</td>\n",
              "      <td>6.756925e+04</td>\n",
              "      <td>26.000000</td>\n",
              "      <td>2.000000</td>\n",
              "      <td>5.800000</td>\n",
              "    </tr>\n",
              "    <tr>\n",
              "      <th>50%</th>\n",
              "      <td>130.000000</td>\n",
              "      <td>1.303670e+05</td>\n",
              "      <td>1.351830e+05</td>\n",
              "      <td>53.000000</td>\n",
              "      <td>2.000000</td>\n",
              "      <td>7.400000</td>\n",
              "    </tr>\n",
              "    <tr>\n",
              "      <th>75%</th>\n",
              "      <td>203.000000</td>\n",
              "      <td>2.030840e+05</td>\n",
              "      <td>2.026538e+05</td>\n",
              "      <td>87.000000</td>\n",
              "      <td>2.000000</td>\n",
              "      <td>8.800000</td>\n",
              "    </tr>\n",
              "    <tr>\n",
              "      <th>max</th>\n",
              "      <td>272.000000</td>\n",
              "      <td>2.373711e+06</td>\n",
              "      <td>2.415841e+06</td>\n",
              "      <td>114.000000</td>\n",
              "      <td>200.000000</td>\n",
              "      <td>650.000000</td>\n",
              "    </tr>\n",
              "  </tbody>\n",
              "</table>\n",
              "</div>"
            ],
            "text/plain": [
              "           STORE_NBR  LYLTY_CARD_NBR  ...       PROD_QTY      TOT_SALES\n",
              "count  246742.000000    2.467420e+05  ...  246742.000000  246742.000000\n",
              "mean      135.051098    1.355310e+05  ...       1.908062       7.321322\n",
              "std        76.787096    8.071528e+04  ...       0.659831       3.077828\n",
              "min         1.000000    1.000000e+03  ...       1.000000       1.700000\n",
              "25%        70.000000    7.001500e+04  ...       2.000000       5.800000\n",
              "50%       130.000000    1.303670e+05  ...       2.000000       7.400000\n",
              "75%       203.000000    2.030840e+05  ...       2.000000       8.800000\n",
              "max       272.000000    2.373711e+06  ...     200.000000     650.000000\n",
              "\n",
              "[8 rows x 6 columns]"
            ]
          },
          "metadata": {
            "tags": []
          },
          "execution_count": 355
        }
      ]
    },
    {
      "cell_type": "code",
      "metadata": {
        "id": "_P1ZWQSSoexO",
        "colab_type": "code",
        "colab": {
          "base_uri": "https://localhost:8080/",
          "height": 167
        },
        "outputId": "1089889e-862e-4c64-e3bc-45ede40c010a"
      },
      "source": [
        "#1. Clearly we have an outliers , in TOT_SALES mean ~7.32 but Max is 650 !\n",
        "#2. PROD_QTY mean ~2 max is at 200\n",
        "# We also don't have Null values seen from count but this the general method to check for null values in columns\n",
        "transaction_data.isnull().sum()\n"
      ],
      "execution_count": null,
      "outputs": [
        {
          "output_type": "execute_result",
          "data": {
            "text/plain": [
              "DATE              0\n",
              "STORE_NBR         0\n",
              "LYLTY_CARD_NBR    0\n",
              "TXN_ID            0\n",
              "PROD_NBR          0\n",
              "PROD_NAME         0\n",
              "PROD_QTY          0\n",
              "TOT_SALES         0\n",
              "dtype: int64"
            ]
          },
          "metadata": {
            "tags": []
          },
          "execution_count": 356
        }
      ]
    },
    {
      "cell_type": "code",
      "metadata": {
        "id": "umANFV4nt1D-",
        "colab_type": "code",
        "colab": {
          "base_uri": "https://localhost:8080/",
          "height": 297
        },
        "outputId": "a837c13d-9fdf-468d-bad6-a4ce150c77d3"
      },
      "source": [
        "sns.boxplot(transaction_data.TOT_SALES)"
      ],
      "execution_count": null,
      "outputs": [
        {
          "output_type": "execute_result",
          "data": {
            "text/plain": [
              "<matplotlib.axes._subplots.AxesSubplot at 0x7f0dfb02a5f8>"
            ]
          },
          "metadata": {
            "tags": []
          },
          "execution_count": 357
        },
        {
          "output_type": "display_data",
          "data": {
            "image/png": "[encoded data removed]",
            "text/plain": [
              "<Figure size 432x288 with 1 Axes>"
            ]
          },
          "metadata": {
            "tags": [],
            "needs_background": "light"
          }
        }
      ]
    },
    {
      "cell_type": "code",
      "metadata": {
        "id": "aYNhXILjt5pD",
        "colab_type": "code",
        "colab": {
          "base_uri": "https://localhost:8080/",
          "height": 299
        },
        "outputId": "4b8bded2-e31a-4950-ed76-db7fa15c850e"
      },
      "source": [
        "sns.distplot(transaction_data.TOT_SALES)"
      ],
      "execution_count": null,
      "outputs": [
        {
          "output_type": "execute_result",
          "data": {
            "text/plain": [
              "<matplotlib.axes._subplots.AxesSubplot at 0x7f0dfb00f630>"
            ]
          },
          "metadata": {
            "tags": []
          },
          "execution_count": 358
        },
        {
          "output_type": "display_data",
          "data": {
            "image/png": "[encoded data removed]",
            "text/plain": [
              "<Figure size 432x288 with 1 Axes>"
            ]
          },
          "metadata": {
            "tags": [],
            "needs_background": "light"
          }
        }
      ]
    },
    {
      "cell_type": "code",
      "metadata": {
        "id": "LGk5zvBtynU_",
        "colab_type": "code",
        "colab": {
          "base_uri": "https://localhost:8080/",
          "height": 297
        },
        "outputId": "d872049e-4f4a-418e-d857-075ce74bfd35"
      },
      "source": [
        "sns.boxplot(transaction_data.PROD_QTY)"
      ],
      "execution_count": null,
      "outputs": [
        {
          "output_type": "execute_result",
          "data": {
            "text/plain": [
              "<matplotlib.axes._subplots.AxesSubplot at 0x7f0dfb0502b0>"
            ]
          },
          "metadata": {
            "tags": []
          },
          "execution_count": 359
        },
        {
          "output_type": "display_data",
          "data": {
            "image/png": "[encoded data removed]",
            "text/plain": [
              "<Figure size 432x288 with 1 Axes>"
            ]
          },
          "metadata": {
            "tags": [],
            "needs_background": "light"
          }
        }
      ]
    },
    {
      "cell_type": "code",
      "metadata": {
        "id": "BO38oEehuRhx",
        "colab_type": "code",
        "colab": {}
      },
      "source": [
        "#we can see the outlier after 600 at TOt_sales and an outlier at 200 for PROD_QTY"
      ],
      "execution_count": null,
      "outputs": []
    },
    {
      "cell_type": "code",
      "metadata": {
        "id": "2U8YvIwDv_ER",
        "colab_type": "code",
        "colab": {
          "base_uri": "https://localhost:8080/",
          "height": 196
        },
        "outputId": "a64399c4-3913-43d0-b27c-51e79dd7b7fc"
      },
      "source": [
        "numeric_data = transaction_data.select_dtypes(['float','int'])\n",
        "numeric_data.head()"
      ],
      "execution_count": null,
      "outputs": [
        {
          "output_type": "execute_result",
          "data": {
            "text/html": [
              "<div>\n",
              "<style scoped>\n",
              "    .dataframe tbody tr th:only-of-type {\n",
              "        vertical-align: middle;\n",
              "    }\n",
              "\n",
              "    .dataframe tbody tr th {\n",
              "        vertical-align: top;\n",
              "    }\n",
              "\n",
              "    .dataframe thead th {\n",
              "        text-align: right;\n",
              "    }\n",
              "</style>\n",
              "<table border=\"1\" class=\"dataframe\">\n",
              "  <thead>\n",
              "    <tr style=\"text-align: right;\">\n",
              "      <th></th>\n",
              "      <th>STORE_NBR</th>\n",
              "      <th>LYLTY_CARD_NBR</th>\n",
              "      <th>TXN_ID</th>\n",
              "      <th>PROD_NBR</th>\n",
              "      <th>PROD_QTY</th>\n",
              "      <th>TOT_SALES</th>\n",
              "    </tr>\n",
              "  </thead>\n",
              "  <tbody>\n",
              "    <tr>\n",
              "      <th>0</th>\n",
              "      <td>1</td>\n",
              "      <td>1000</td>\n",
              "      <td>1</td>\n",
              "      <td>5</td>\n",
              "      <td>2</td>\n",
              "      <td>6.0</td>\n",
              "    </tr>\n",
              "    <tr>\n",
              "      <th>1</th>\n",
              "      <td>1</td>\n",
              "      <td>1307</td>\n",
              "      <td>348</td>\n",
              "      <td>66</td>\n",
              "      <td>3</td>\n",
              "      <td>6.3</td>\n",
              "    </tr>\n",
              "    <tr>\n",
              "      <th>2</th>\n",
              "      <td>1</td>\n",
              "      <td>1343</td>\n",
              "      <td>383</td>\n",
              "      <td>61</td>\n",
              "      <td>2</td>\n",
              "      <td>2.9</td>\n",
              "    </tr>\n",
              "    <tr>\n",
              "      <th>3</th>\n",
              "      <td>2</td>\n",
              "      <td>2373</td>\n",
              "      <td>974</td>\n",
              "      <td>69</td>\n",
              "      <td>5</td>\n",
              "      <td>15.0</td>\n",
              "    </tr>\n",
              "    <tr>\n",
              "      <th>4</th>\n",
              "      <td>2</td>\n",
              "      <td>2426</td>\n",
              "      <td>1038</td>\n",
              "      <td>108</td>\n",
              "      <td>3</td>\n",
              "      <td>13.8</td>\n",
              "    </tr>\n",
              "  </tbody>\n",
              "</table>\n",
              "</div>"
            ],
            "text/plain": [
              "   STORE_NBR  LYLTY_CARD_NBR  TXN_ID  PROD_NBR  PROD_QTY  TOT_SALES\n",
              "0          1            1000       1         5         2        6.0\n",
              "1          1            1307     348        66         3        6.3\n",
              "2          1            1343     383        61         2        2.9\n",
              "3          2            2373     974        69         5       15.0\n",
              "4          2            2426    1038       108         3       13.8"
            ]
          },
          "metadata": {
            "tags": []
          },
          "execution_count": 361
        }
      ]
    },
    {
      "cell_type": "code",
      "metadata": {
        "id": "Vx3jpxt7wJBC",
        "colab_type": "code",
        "colab": {}
      },
      "source": [
        "x = numeric_data[numeric_data[\"TOT_SALES\"] < 8.000]"
      ],
      "execution_count": null,
      "outputs": []
    },
    {
      "cell_type": "code",
      "metadata": {
        "id": "2ldntZerwXXX",
        "colab_type": "code",
        "colab": {
          "base_uri": "https://localhost:8080/",
          "height": 297
        },
        "outputId": "40f07d1a-01c2-43a6-fa5a-5529d341f16e"
      },
      "source": [
        "sns.distplot(x[\"TOT_SALES\"])"
      ],
      "execution_count": null,
      "outputs": [
        {
          "output_type": "execute_result",
          "data": {
            "text/plain": [
              "<matplotlib.axes._subplots.AxesSubplot at 0x7f0dee2d2748>"
            ]
          },
          "metadata": {
            "tags": []
          },
          "execution_count": 363
        },
        {
          "output_type": "display_data",
          "data": {
            "image/png": "[encoded data removed]",
            "text/plain": [
              "<Figure size 432x288 with 1 Axes>"
            ]
          },
          "metadata": {
            "tags": [],
            "needs_background": "light"
          }
        }
      ]
    },
    {
      "cell_type": "code",
      "metadata": {
        "id": "9AZ7K7-XwYNE",
        "colab_type": "code",
        "colab": {}
      },
      "source": [
        "Outliers = transaction_data[transaction_data.PROD_QTY >= 200]"
      ],
      "execution_count": null,
      "outputs": []
    },
    {
      "cell_type": "code",
      "metadata": {
        "id": "sdZ1NCuvzS_l",
        "colab_type": "code",
        "colab": {
          "base_uri": "https://localhost:8080/",
          "height": 107
        },
        "outputId": "de03c767-3d1c-4d85-d1da-df1b51154bad"
      },
      "source": [
        "Outliers"
      ],
      "execution_count": null,
      "outputs": [
        {
          "output_type": "execute_result",
          "data": {
            "text/html": [
              "<div>\n",
              "<style scoped>\n",
              "    .dataframe tbody tr th:only-of-type {\n",
              "        vertical-align: middle;\n",
              "    }\n",
              "\n",
              "    .dataframe tbody tr th {\n",
              "        vertical-align: top;\n",
              "    }\n",
              "\n",
              "    .dataframe thead th {\n",
              "        text-align: right;\n",
              "    }\n",
              "</style>\n",
              "<table border=\"1\" class=\"dataframe\">\n",
              "  <thead>\n",
              "    <tr style=\"text-align: right;\">\n",
              "      <th></th>\n",
              "      <th>DATE</th>\n",
              "      <th>STORE_NBR</th>\n",
              "      <th>LYLTY_CARD_NBR</th>\n",
              "      <th>TXN_ID</th>\n",
              "      <th>PROD_NBR</th>\n",
              "      <th>PROD_NAME</th>\n",
              "      <th>PROD_QTY</th>\n",
              "      <th>TOT_SALES</th>\n",
              "    </tr>\n",
              "  </thead>\n",
              "  <tbody>\n",
              "    <tr>\n",
              "      <th>69762</th>\n",
              "      <td>2018-08-19</td>\n",
              "      <td>226</td>\n",
              "      <td>226000</td>\n",
              "      <td>226201</td>\n",
              "      <td>4</td>\n",
              "      <td>Dorito Corn Chp     Supreme 380g</td>\n",
              "      <td>200</td>\n",
              "      <td>650.0</td>\n",
              "    </tr>\n",
              "    <tr>\n",
              "      <th>69763</th>\n",
              "      <td>2019-05-20</td>\n",
              "      <td>226</td>\n",
              "      <td>226000</td>\n",
              "      <td>226210</td>\n",
              "      <td>4</td>\n",
              "      <td>Dorito Corn Chp     Supreme 380g</td>\n",
              "      <td>200</td>\n",
              "      <td>650.0</td>\n",
              "    </tr>\n",
              "  </tbody>\n",
              "</table>\n",
              "</div>"
            ],
            "text/plain": [
              "            DATE  STORE_NBR  ...  PROD_QTY  TOT_SALES\n",
              "69762 2018-08-19        226  ...       200      650.0\n",
              "69763 2019-05-20        226  ...       200      650.0\n",
              "\n",
              "[2 rows x 8 columns]"
            ]
          },
          "metadata": {
            "tags": []
          },
          "execution_count": 365
        }
      ]
    },
    {
      "cell_type": "code",
      "metadata": {
        "id": "CF5ToTzuzUbF",
        "colab_type": "code",
        "colab": {}
      },
      "source": [
        "Other_Purchases_by_outlier = transaction_data[transaction_data.LYLTY_CARD_NBR == 226000]"
      ],
      "execution_count": null,
      "outputs": []
    },
    {
      "cell_type": "code",
      "metadata": {
        "id": "LNGG-eBWz5mH",
        "colab_type": "code",
        "colab": {
          "base_uri": "https://localhost:8080/",
          "height": 107
        },
        "outputId": "4265677f-4175-4074-dc9f-652d29c8be54"
      },
      "source": [
        "Other_Purchases_by_outlier"
      ],
      "execution_count": null,
      "outputs": [
        {
          "output_type": "execute_result",
          "data": {
            "text/html": [
              "<div>\n",
              "<style scoped>\n",
              "    .dataframe tbody tr th:only-of-type {\n",
              "        vertical-align: middle;\n",
              "    }\n",
              "\n",
              "    .dataframe tbody tr th {\n",
              "        vertical-align: top;\n",
              "    }\n",
              "\n",
              "    .dataframe thead th {\n",
              "        text-align: right;\n",
              "    }\n",
              "</style>\n",
              "<table border=\"1\" class=\"dataframe\">\n",
              "  <thead>\n",
              "    <tr style=\"text-align: right;\">\n",
              "      <th></th>\n",
              "      <th>DATE</th>\n",
              "      <th>STORE_NBR</th>\n",
              "      <th>LYLTY_CARD_NBR</th>\n",
              "      <th>TXN_ID</th>\n",
              "      <th>PROD_NBR</th>\n",
              "      <th>PROD_NAME</th>\n",
              "      <th>PROD_QTY</th>\n",
              "      <th>TOT_SALES</th>\n",
              "    </tr>\n",
              "  </thead>\n",
              "  <tbody>\n",
              "    <tr>\n",
              "      <th>69762</th>\n",
              "      <td>2018-08-19</td>\n",
              "      <td>226</td>\n",
              "      <td>226000</td>\n",
              "      <td>226201</td>\n",
              "      <td>4</td>\n",
              "      <td>Dorito Corn Chp     Supreme 380g</td>\n",
              "      <td>200</td>\n",
              "      <td>650.0</td>\n",
              "    </tr>\n",
              "    <tr>\n",
              "      <th>69763</th>\n",
              "      <td>2019-05-20</td>\n",
              "      <td>226</td>\n",
              "      <td>226000</td>\n",
              "      <td>226210</td>\n",
              "      <td>4</td>\n",
              "      <td>Dorito Corn Chp     Supreme 380g</td>\n",
              "      <td>200</td>\n",
              "      <td>650.0</td>\n",
              "    </tr>\n",
              "  </tbody>\n",
              "</table>\n",
              "</div>"
            ],
            "text/plain": [
              "            DATE  STORE_NBR  ...  PROD_QTY  TOT_SALES\n",
              "69762 2018-08-19        226  ...       200      650.0\n",
              "69763 2019-05-20        226  ...       200      650.0\n",
              "\n",
              "[2 rows x 8 columns]"
            ]
          },
          "metadata": {
            "tags": []
          },
          "execution_count": 367
        }
      ]
    },
    {
      "cell_type": "code",
      "metadata": {
        "id": "q9ff-8yNz6p4",
        "colab_type": "code",
        "colab": {}
      },
      "source": [
        "#the outlier has not made any other purchases\n",
        "\n",
        "transaction_data = transaction_data[transaction_data['LYLTY_CARD_NBR'] != 226000]"
      ],
      "execution_count": null,
      "outputs": []
    },
    {
      "cell_type": "code",
      "metadata": {
        "id": "ezsMh1ci0gIh",
        "colab_type": "code",
        "colab": {
          "base_uri": "https://localhost:8080/",
          "height": 286
        },
        "outputId": "d10476a5-9681-4707-ae45-ef090a7bb610"
      },
      "source": [
        "transaction_data.describe()"
      ],
      "execution_count": null,
      "outputs": [
        {
          "output_type": "execute_result",
          "data": {
            "text/html": [
              "<div>\n",
              "<style scoped>\n",
              "    .dataframe tbody tr th:only-of-type {\n",
              "        vertical-align: middle;\n",
              "    }\n",
              "\n",
              "    .dataframe tbody tr th {\n",
              "        vertical-align: top;\n",
              "    }\n",
              "\n",
              "    .dataframe thead th {\n",
              "        text-align: right;\n",
              "    }\n",
              "</style>\n",
              "<table border=\"1\" class=\"dataframe\">\n",
              "  <thead>\n",
              "    <tr style=\"text-align: right;\">\n",
              "      <th></th>\n",
              "      <th>STORE_NBR</th>\n",
              "      <th>LYLTY_CARD_NBR</th>\n",
              "      <th>TXN_ID</th>\n",
              "      <th>PROD_NBR</th>\n",
              "      <th>PROD_QTY</th>\n",
              "      <th>TOT_SALES</th>\n",
              "    </tr>\n",
              "  </thead>\n",
              "  <tbody>\n",
              "    <tr>\n",
              "      <th>count</th>\n",
              "      <td>246740.000000</td>\n",
              "      <td>2.467400e+05</td>\n",
              "      <td>2.467400e+05</td>\n",
              "      <td>246740.000000</td>\n",
              "      <td>246740.000000</td>\n",
              "      <td>246740.000000</td>\n",
              "    </tr>\n",
              "    <tr>\n",
              "      <th>mean</th>\n",
              "      <td>135.050361</td>\n",
              "      <td>1.355303e+05</td>\n",
              "      <td>1.351304e+05</td>\n",
              "      <td>56.352213</td>\n",
              "      <td>1.906456</td>\n",
              "      <td>7.316113</td>\n",
              "    </tr>\n",
              "    <tr>\n",
              "      <th>std</th>\n",
              "      <td>76.786971</td>\n",
              "      <td>8.071520e+04</td>\n",
              "      <td>7.814760e+04</td>\n",
              "      <td>33.695235</td>\n",
              "      <td>0.342499</td>\n",
              "      <td>2.474897</td>\n",
              "    </tr>\n",
              "    <tr>\n",
              "      <th>min</th>\n",
              "      <td>1.000000</td>\n",
              "      <td>1.000000e+03</td>\n",
              "      <td>1.000000e+00</td>\n",
              "      <td>1.000000</td>\n",
              "      <td>1.000000</td>\n",
              "      <td>1.700000</td>\n",
              "    </tr>\n",
              "    <tr>\n",
              "      <th>25%</th>\n",
              "      <td>70.000000</td>\n",
              "      <td>7.001500e+04</td>\n",
              "      <td>6.756875e+04</td>\n",
              "      <td>26.000000</td>\n",
              "      <td>2.000000</td>\n",
              "      <td>5.800000</td>\n",
              "    </tr>\n",
              "    <tr>\n",
              "      <th>50%</th>\n",
              "      <td>130.000000</td>\n",
              "      <td>1.303670e+05</td>\n",
              "      <td>1.351815e+05</td>\n",
              "      <td>53.000000</td>\n",
              "      <td>2.000000</td>\n",
              "      <td>7.400000</td>\n",
              "    </tr>\n",
              "    <tr>\n",
              "      <th>75%</th>\n",
              "      <td>203.000000</td>\n",
              "      <td>2.030832e+05</td>\n",
              "      <td>2.026522e+05</td>\n",
              "      <td>87.000000</td>\n",
              "      <td>2.000000</td>\n",
              "      <td>8.800000</td>\n",
              "    </tr>\n",
              "    <tr>\n",
              "      <th>max</th>\n",
              "      <td>272.000000</td>\n",
              "      <td>2.373711e+06</td>\n",
              "      <td>2.415841e+06</td>\n",
              "      <td>114.000000</td>\n",
              "      <td>5.000000</td>\n",
              "      <td>29.500000</td>\n",
              "    </tr>\n",
              "  </tbody>\n",
              "</table>\n",
              "</div>"
            ],
            "text/plain": [
              "           STORE_NBR  LYLTY_CARD_NBR  ...       PROD_QTY      TOT_SALES\n",
              "count  246740.000000    2.467400e+05  ...  246740.000000  246740.000000\n",
              "mean      135.050361    1.355303e+05  ...       1.906456       7.316113\n",
              "std        76.786971    8.071520e+04  ...       0.342499       2.474897\n",
              "min         1.000000    1.000000e+03  ...       1.000000       1.700000\n",
              "25%        70.000000    7.001500e+04  ...       2.000000       5.800000\n",
              "50%       130.000000    1.303670e+05  ...       2.000000       7.400000\n",
              "75%       203.000000    2.030832e+05  ...       2.000000       8.800000\n",
              "max       272.000000    2.373711e+06  ...       5.000000      29.500000\n",
              "\n",
              "[8 rows x 6 columns]"
            ]
          },
          "metadata": {
            "tags": []
          },
          "execution_count": 369
        }
      ]
    },
    {
      "cell_type": "code",
      "metadata": {
        "id": "_fts-FWz0kKx",
        "colab_type": "code",
        "colab": {}
      },
      "source": [
        "Grouped_Transaction_data = transaction_data.groupby('DATE')\n",
        "Count = list(Grouped_Transaction_data[\"TOT_SALES\"].count())"
      ],
      "execution_count": null,
      "outputs": []
    },
    {
      "cell_type": "code",
      "metadata": {
        "id": "8d0kGWEb8eNp",
        "colab_type": "code",
        "colab": {
          "base_uri": "https://localhost:8080/",
          "height": 404
        },
        "outputId": "35591c40-c748-4718-c669-548399e650bf"
      },
      "source": [
        "Grouped_dates = pd.DataFrame({\"DATE\":transaction_data[\"DATE\"].unique(), \"COUNT\" : Count}) \n",
        "Grouped_dates"
      ],
      "execution_count": null,
      "outputs": [
        {
          "output_type": "execute_result",
          "data": {
            "text/html": [
              "<div>\n",
              "<style scoped>\n",
              "    .dataframe tbody tr th:only-of-type {\n",
              "        vertical-align: middle;\n",
              "    }\n",
              "\n",
              "    .dataframe tbody tr th {\n",
              "        vertical-align: top;\n",
              "    }\n",
              "\n",
              "    .dataframe thead th {\n",
              "        text-align: right;\n",
              "    }\n",
              "</style>\n",
              "<table border=\"1\" class=\"dataframe\">\n",
              "  <thead>\n",
              "    <tr style=\"text-align: right;\">\n",
              "      <th></th>\n",
              "      <th>DATE</th>\n",
              "      <th>COUNT</th>\n",
              "    </tr>\n",
              "  </thead>\n",
              "  <tbody>\n",
              "    <tr>\n",
              "      <th>0</th>\n",
              "      <td>2018-10-17</td>\n",
              "      <td>663</td>\n",
              "    </tr>\n",
              "    <tr>\n",
              "      <th>1</th>\n",
              "      <td>2019-05-14</td>\n",
              "      <td>650</td>\n",
              "    </tr>\n",
              "    <tr>\n",
              "      <th>2</th>\n",
              "      <td>2019-05-20</td>\n",
              "      <td>674</td>\n",
              "    </tr>\n",
              "    <tr>\n",
              "      <th>3</th>\n",
              "      <td>2018-08-17</td>\n",
              "      <td>669</td>\n",
              "    </tr>\n",
              "    <tr>\n",
              "      <th>4</th>\n",
              "      <td>2018-08-18</td>\n",
              "      <td>660</td>\n",
              "    </tr>\n",
              "    <tr>\n",
              "      <th>...</th>\n",
              "      <td>...</td>\n",
              "      <td>...</td>\n",
              "    </tr>\n",
              "    <tr>\n",
              "      <th>359</th>\n",
              "      <td>2018-12-08</td>\n",
              "      <td>657</td>\n",
              "    </tr>\n",
              "    <tr>\n",
              "      <th>360</th>\n",
              "      <td>2019-01-30</td>\n",
              "      <td>669</td>\n",
              "    </tr>\n",
              "    <tr>\n",
              "      <th>361</th>\n",
              "      <td>2019-02-09</td>\n",
              "      <td>673</td>\n",
              "    </tr>\n",
              "    <tr>\n",
              "      <th>362</th>\n",
              "      <td>2018-08-31</td>\n",
              "      <td>703</td>\n",
              "    </tr>\n",
              "    <tr>\n",
              "      <th>363</th>\n",
              "      <td>2019-02-12</td>\n",
              "      <td>704</td>\n",
              "    </tr>\n",
              "  </tbody>\n",
              "</table>\n",
              "<p>364 rows × 2 columns</p>\n",
              "</div>"
            ],
            "text/plain": [
              "          DATE  COUNT\n",
              "0   2018-10-17    663\n",
              "1   2019-05-14    650\n",
              "2   2019-05-20    674\n",
              "3   2018-08-17    669\n",
              "4   2018-08-18    660\n",
              "..         ...    ...\n",
              "359 2018-12-08    657\n",
              "360 2019-01-30    669\n",
              "361 2019-02-09    673\n",
              "362 2018-08-31    703\n",
              "363 2019-02-12    704\n",
              "\n",
              "[364 rows x 2 columns]"
            ]
          },
          "metadata": {
            "tags": []
          },
          "execution_count": 371
        }
      ]
    },
    {
      "cell_type": "code",
      "metadata": {
        "id": "wlxcB_Vw1whp",
        "colab_type": "code",
        "colab": {}
      },
      "source": [
        "#Only 364 rows . therefore we miss a date\n",
        "days = [datetime.fromordinal( datetime(2018, 7, 1).toordinal() + x ) for x in range(365)]\n",
        "day_sequence = pd.DataFrame(days, columns = [\"DATE\"])"
      ],
      "execution_count": null,
      "outputs": []
    },
    {
      "cell_type": "code",
      "metadata": {
        "id": "xAHZ2mwU3SFJ",
        "colab_type": "code",
        "colab": {
          "base_uri": "https://localhost:8080/",
          "height": 404
        },
        "outputId": "8ff86652-19f0-4440-a124-07434458e83b"
      },
      "source": [
        "day_sequence\n",
        "#transaction_by_date = pd.DataFrame({\"DATE\":transactions_days[\"DATE\"],\"TOT_SALES\":transactions_days[\"TOT_SALES\"]})\n",
        "#transaction_by_date\n"
      ],
      "execution_count": null,
      "outputs": [
        {
          "output_type": "execute_result",
          "data": {
            "text/html": [
              "<div>\n",
              "<style scoped>\n",
              "    .dataframe tbody tr th:only-of-type {\n",
              "        vertical-align: middle;\n",
              "    }\n",
              "\n",
              "    .dataframe tbody tr th {\n",
              "        vertical-align: top;\n",
              "    }\n",
              "\n",
              "    .dataframe thead th {\n",
              "        text-align: right;\n",
              "    }\n",
              "</style>\n",
              "<table border=\"1\" class=\"dataframe\">\n",
              "  <thead>\n",
              "    <tr style=\"text-align: right;\">\n",
              "      <th></th>\n",
              "      <th>DATE</th>\n",
              "    </tr>\n",
              "  </thead>\n",
              "  <tbody>\n",
              "    <tr>\n",
              "      <th>0</th>\n",
              "      <td>2018-07-01</td>\n",
              "    </tr>\n",
              "    <tr>\n",
              "      <th>1</th>\n",
              "      <td>2018-07-02</td>\n",
              "    </tr>\n",
              "    <tr>\n",
              "      <th>2</th>\n",
              "      <td>2018-07-03</td>\n",
              "    </tr>\n",
              "    <tr>\n",
              "      <th>3</th>\n",
              "      <td>2018-07-04</td>\n",
              "    </tr>\n",
              "    <tr>\n",
              "      <th>4</th>\n",
              "      <td>2018-07-05</td>\n",
              "    </tr>\n",
              "    <tr>\n",
              "      <th>...</th>\n",
              "      <td>...</td>\n",
              "    </tr>\n",
              "    <tr>\n",
              "      <th>360</th>\n",
              "      <td>2019-06-26</td>\n",
              "    </tr>\n",
              "    <tr>\n",
              "      <th>361</th>\n",
              "      <td>2019-06-27</td>\n",
              "    </tr>\n",
              "    <tr>\n",
              "      <th>362</th>\n",
              "      <td>2019-06-28</td>\n",
              "    </tr>\n",
              "    <tr>\n",
              "      <th>363</th>\n",
              "      <td>2019-06-29</td>\n",
              "    </tr>\n",
              "    <tr>\n",
              "      <th>364</th>\n",
              "      <td>2019-06-30</td>\n",
              "    </tr>\n",
              "  </tbody>\n",
              "</table>\n",
              "<p>365 rows × 1 columns</p>\n",
              "</div>"
            ],
            "text/plain": [
              "          DATE\n",
              "0   2018-07-01\n",
              "1   2018-07-02\n",
              "2   2018-07-03\n",
              "3   2018-07-04\n",
              "4   2018-07-05\n",
              "..         ...\n",
              "360 2019-06-26\n",
              "361 2019-06-27\n",
              "362 2019-06-28\n",
              "363 2019-06-29\n",
              "364 2019-06-30\n",
              "\n",
              "[365 rows x 1 columns]"
            ]
          },
          "metadata": {
            "tags": []
          },
          "execution_count": 373
        }
      ]
    },
    {
      "cell_type": "code",
      "metadata": {
        "id": "Z7P1Yrrw3mob",
        "colab_type": "code",
        "colab": {}
      },
      "source": [
        "#missing_date = day_sequence.set_index('DATE').join(Grouped_dates.set_index('DATE'))\n",
        "missing_date = day_sequence.join(Grouped_dates.set_index('DATE'), on='DATE')"
      ],
      "execution_count": null,
      "outputs": []
    },
    {
      "cell_type": "code",
      "metadata": {
        "id": "Rf5pi30C5zP3",
        "colab_type": "code",
        "colab": {
          "base_uri": "https://localhost:8080/",
          "height": 404
        },
        "outputId": "79b03684-fd4c-4139-9354-86cc2e9d2193"
      },
      "source": [
        "missing_date"
      ],
      "execution_count": null,
      "outputs": [
        {
          "output_type": "execute_result",
          "data": {
            "text/html": [
              "<div>\n",
              "<style scoped>\n",
              "    .dataframe tbody tr th:only-of-type {\n",
              "        vertical-align: middle;\n",
              "    }\n",
              "\n",
              "    .dataframe tbody tr th {\n",
              "        vertical-align: top;\n",
              "    }\n",
              "\n",
              "    .dataframe thead th {\n",
              "        text-align: right;\n",
              "    }\n",
              "</style>\n",
              "<table border=\"1\" class=\"dataframe\">\n",
              "  <thead>\n",
              "    <tr style=\"text-align: right;\">\n",
              "      <th></th>\n",
              "      <th>DATE</th>\n",
              "      <th>COUNT</th>\n",
              "    </tr>\n",
              "  </thead>\n",
              "  <tbody>\n",
              "    <tr>\n",
              "      <th>0</th>\n",
              "      <td>2018-07-01</td>\n",
              "      <td>698.0</td>\n",
              "    </tr>\n",
              "    <tr>\n",
              "      <th>1</th>\n",
              "      <td>2018-07-02</td>\n",
              "      <td>865.0</td>\n",
              "    </tr>\n",
              "    <tr>\n",
              "      <th>2</th>\n",
              "      <td>2018-07-03</td>\n",
              "      <td>670.0</td>\n",
              "    </tr>\n",
              "    <tr>\n",
              "      <th>3</th>\n",
              "      <td>2018-07-04</td>\n",
              "      <td>668.0</td>\n",
              "    </tr>\n",
              "    <tr>\n",
              "      <th>4</th>\n",
              "      <td>2018-07-05</td>\n",
              "      <td>676.0</td>\n",
              "    </tr>\n",
              "    <tr>\n",
              "      <th>...</th>\n",
              "      <td>...</td>\n",
              "      <td>...</td>\n",
              "    </tr>\n",
              "    <tr>\n",
              "      <th>360</th>\n",
              "      <td>2019-06-26</td>\n",
              "      <td>669.0</td>\n",
              "    </tr>\n",
              "    <tr>\n",
              "      <th>361</th>\n",
              "      <td>2019-06-27</td>\n",
              "      <td>646.0</td>\n",
              "    </tr>\n",
              "    <tr>\n",
              "      <th>362</th>\n",
              "      <td>2019-06-28</td>\n",
              "      <td>716.0</td>\n",
              "    </tr>\n",
              "    <tr>\n",
              "      <th>363</th>\n",
              "      <td>2019-06-29</td>\n",
              "      <td>672.0</td>\n",
              "    </tr>\n",
              "    <tr>\n",
              "      <th>364</th>\n",
              "      <td>2019-06-30</td>\n",
              "      <td>688.0</td>\n",
              "    </tr>\n",
              "  </tbody>\n",
              "</table>\n",
              "<p>365 rows × 2 columns</p>\n",
              "</div>"
            ],
            "text/plain": [
              "          DATE  COUNT\n",
              "0   2018-07-01  698.0\n",
              "1   2018-07-02  865.0\n",
              "2   2018-07-03  670.0\n",
              "3   2018-07-04  668.0\n",
              "4   2018-07-05  676.0\n",
              "..         ...    ...\n",
              "360 2019-06-26  669.0\n",
              "361 2019-06-27  646.0\n",
              "362 2019-06-28  716.0\n",
              "363 2019-06-29  672.0\n",
              "364 2019-06-30  688.0\n",
              "\n",
              "[365 rows x 2 columns]"
            ]
          },
          "metadata": {
            "tags": []
          },
          "execution_count": 375
        }
      ]
    },
    {
      "cell_type": "code",
      "metadata": {
        "id": "ELv9VpE1L406",
        "colab_type": "code",
        "colab": {
          "base_uri": "https://localhost:8080/",
          "height": 77
        },
        "outputId": "8512a1ea-7d79-4144-9c81-7b320d9742c9"
      },
      "source": [
        "is_NaN = missing_date.isnull()\n",
        "row_has_NaN = is_NaN.any(axis=1)\n",
        "rows_with_NaN = missing_date[row_has_NaN]\n",
        "\n",
        "rows_with_NaN"
      ],
      "execution_count": null,
      "outputs": [
        {
          "output_type": "execute_result",
          "data": {
            "text/html": [
              "<div>\n",
              "<style scoped>\n",
              "    .dataframe tbody tr th:only-of-type {\n",
              "        vertical-align: middle;\n",
              "    }\n",
              "\n",
              "    .dataframe tbody tr th {\n",
              "        vertical-align: top;\n",
              "    }\n",
              "\n",
              "    .dataframe thead th {\n",
              "        text-align: right;\n",
              "    }\n",
              "</style>\n",
              "<table border=\"1\" class=\"dataframe\">\n",
              "  <thead>\n",
              "    <tr style=\"text-align: right;\">\n",
              "      <th></th>\n",
              "      <th>DATE</th>\n",
              "      <th>COUNT</th>\n",
              "    </tr>\n",
              "  </thead>\n",
              "  <tbody>\n",
              "    <tr>\n",
              "      <th>177</th>\n",
              "      <td>2018-12-25</td>\n",
              "      <td>NaN</td>\n",
              "    </tr>\n",
              "  </tbody>\n",
              "</table>\n",
              "</div>"
            ],
            "text/plain": [
              "          DATE  COUNT\n",
              "177 2018-12-25    NaN"
            ]
          },
          "metadata": {
            "tags": []
          },
          "execution_count": 376
        }
      ]
    },
    {
      "cell_type": "code",
      "metadata": {
        "id": "z6IvEyXyOrd3",
        "colab_type": "code",
        "colab": {}
      },
      "source": [
        "transaction_data[\"PACK_SIZE\"] = transaction_data.apply(lambda rw:int(re.findall('[0-9]+',rw.PROD_NAME)[0]), axis= 1)\n",
        "transaction_data[\"BRAND_NAME\"] = transaction_data.apply(lambda rw:re.findall('[a-zA-Z]+',rw.PROD_NAME)[0], axis= 1)"
      ],
      "execution_count": null,
      "outputs": []
    },
    {
      "cell_type": "code",
      "metadata": {
        "id": "GK2Ya2h9TMcw",
        "colab_type": "code",
        "colab": {
          "base_uri": "https://localhost:8080/",
          "height": 485
        },
        "outputId": "05cff5dc-009f-4250-c45d-90b58a022328"
      },
      "source": [
        "transaction_data.describe(include= 'all')"
      ],
      "execution_count": null,
      "outputs": [
        {
          "output_type": "execute_result",
          "data": {
            "text/html": [
              "<div>\n",
              "<style scoped>\n",
              "    .dataframe tbody tr th:only-of-type {\n",
              "        vertical-align: middle;\n",
              "    }\n",
              "\n",
              "    .dataframe tbody tr th {\n",
              "        vertical-align: top;\n",
              "    }\n",
              "\n",
              "    .dataframe thead th {\n",
              "        text-align: right;\n",
              "    }\n",
              "</style>\n",
              "<table border=\"1\" class=\"dataframe\">\n",
              "  <thead>\n",
              "    <tr style=\"text-align: right;\">\n",
              "      <th></th>\n",
              "      <th>DATE</th>\n",
              "      <th>STORE_NBR</th>\n",
              "      <th>LYLTY_CARD_NBR</th>\n",
              "      <th>TXN_ID</th>\n",
              "      <th>PROD_NBR</th>\n",
              "      <th>PROD_NAME</th>\n",
              "      <th>PROD_QTY</th>\n",
              "      <th>TOT_SALES</th>\n",
              "      <th>PACK_SIZE</th>\n",
              "      <th>BRAND_NAME</th>\n",
              "    </tr>\n",
              "  </thead>\n",
              "  <tbody>\n",
              "    <tr>\n",
              "      <th>count</th>\n",
              "      <td>246740</td>\n",
              "      <td>246740.000000</td>\n",
              "      <td>2.467400e+05</td>\n",
              "      <td>2.467400e+05</td>\n",
              "      <td>246740.000000</td>\n",
              "      <td>246740</td>\n",
              "      <td>246740.000000</td>\n",
              "      <td>246740.000000</td>\n",
              "      <td>246740.000000</td>\n",
              "      <td>246740</td>\n",
              "    </tr>\n",
              "    <tr>\n",
              "      <th>unique</th>\n",
              "      <td>364</td>\n",
              "      <td>NaN</td>\n",
              "      <td>NaN</td>\n",
              "      <td>NaN</td>\n",
              "      <td>NaN</td>\n",
              "      <td>105</td>\n",
              "      <td>NaN</td>\n",
              "      <td>NaN</td>\n",
              "      <td>NaN</td>\n",
              "      <td>28</td>\n",
              "    </tr>\n",
              "    <tr>\n",
              "      <th>top</th>\n",
              "      <td>2018-12-24 00:00:00</td>\n",
              "      <td>NaN</td>\n",
              "      <td>NaN</td>\n",
              "      <td>NaN</td>\n",
              "      <td>NaN</td>\n",
              "      <td>Kettle Mozzarella   Basil &amp; Pesto 175g</td>\n",
              "      <td>NaN</td>\n",
              "      <td>NaN</td>\n",
              "      <td>NaN</td>\n",
              "      <td>Kettle</td>\n",
              "    </tr>\n",
              "    <tr>\n",
              "      <th>freq</th>\n",
              "      <td>865</td>\n",
              "      <td>NaN</td>\n",
              "      <td>NaN</td>\n",
              "      <td>NaN</td>\n",
              "      <td>NaN</td>\n",
              "      <td>3304</td>\n",
              "      <td>NaN</td>\n",
              "      <td>NaN</td>\n",
              "      <td>NaN</td>\n",
              "      <td>41288</td>\n",
              "    </tr>\n",
              "    <tr>\n",
              "      <th>first</th>\n",
              "      <td>2018-07-01 00:00:00</td>\n",
              "      <td>NaN</td>\n",
              "      <td>NaN</td>\n",
              "      <td>NaN</td>\n",
              "      <td>NaN</td>\n",
              "      <td>NaN</td>\n",
              "      <td>NaN</td>\n",
              "      <td>NaN</td>\n",
              "      <td>NaN</td>\n",
              "      <td>NaN</td>\n",
              "    </tr>\n",
              "    <tr>\n",
              "      <th>last</th>\n",
              "      <td>2019-06-30 00:00:00</td>\n",
              "      <td>NaN</td>\n",
              "      <td>NaN</td>\n",
              "      <td>NaN</td>\n",
              "      <td>NaN</td>\n",
              "      <td>NaN</td>\n",
              "      <td>NaN</td>\n",
              "      <td>NaN</td>\n",
              "      <td>NaN</td>\n",
              "      <td>NaN</td>\n",
              "    </tr>\n",
              "    <tr>\n",
              "      <th>mean</th>\n",
              "      <td>NaN</td>\n",
              "      <td>135.050361</td>\n",
              "      <td>1.355303e+05</td>\n",
              "      <td>1.351304e+05</td>\n",
              "      <td>56.352213</td>\n",
              "      <td>NaN</td>\n",
              "      <td>1.906456</td>\n",
              "      <td>7.316113</td>\n",
              "      <td>175.583521</td>\n",
              "      <td>NaN</td>\n",
              "    </tr>\n",
              "    <tr>\n",
              "      <th>std</th>\n",
              "      <td>NaN</td>\n",
              "      <td>76.786971</td>\n",
              "      <td>8.071520e+04</td>\n",
              "      <td>7.814760e+04</td>\n",
              "      <td>33.695235</td>\n",
              "      <td>NaN</td>\n",
              "      <td>0.342499</td>\n",
              "      <td>2.474897</td>\n",
              "      <td>59.432118</td>\n",
              "      <td>NaN</td>\n",
              "    </tr>\n",
              "    <tr>\n",
              "      <th>min</th>\n",
              "      <td>NaN</td>\n",
              "      <td>1.000000</td>\n",
              "      <td>1.000000e+03</td>\n",
              "      <td>1.000000e+00</td>\n",
              "      <td>1.000000</td>\n",
              "      <td>NaN</td>\n",
              "      <td>1.000000</td>\n",
              "      <td>1.700000</td>\n",
              "      <td>70.000000</td>\n",
              "      <td>NaN</td>\n",
              "    </tr>\n",
              "    <tr>\n",
              "      <th>25%</th>\n",
              "      <td>NaN</td>\n",
              "      <td>70.000000</td>\n",
              "      <td>7.001500e+04</td>\n",
              "      <td>6.756875e+04</td>\n",
              "      <td>26.000000</td>\n",
              "      <td>NaN</td>\n",
              "      <td>2.000000</td>\n",
              "      <td>5.800000</td>\n",
              "      <td>150.000000</td>\n",
              "      <td>NaN</td>\n",
              "    </tr>\n",
              "    <tr>\n",
              "      <th>50%</th>\n",
              "      <td>NaN</td>\n",
              "      <td>130.000000</td>\n",
              "      <td>1.303670e+05</td>\n",
              "      <td>1.351815e+05</td>\n",
              "      <td>53.000000</td>\n",
              "      <td>NaN</td>\n",
              "      <td>2.000000</td>\n",
              "      <td>7.400000</td>\n",
              "      <td>170.000000</td>\n",
              "      <td>NaN</td>\n",
              "    </tr>\n",
              "    <tr>\n",
              "      <th>75%</th>\n",
              "      <td>NaN</td>\n",
              "      <td>203.000000</td>\n",
              "      <td>2.030832e+05</td>\n",
              "      <td>2.026522e+05</td>\n",
              "      <td>87.000000</td>\n",
              "      <td>NaN</td>\n",
              "      <td>2.000000</td>\n",
              "      <td>8.800000</td>\n",
              "      <td>175.000000</td>\n",
              "      <td>NaN</td>\n",
              "    </tr>\n",
              "    <tr>\n",
              "      <th>max</th>\n",
              "      <td>NaN</td>\n",
              "      <td>272.000000</td>\n",
              "      <td>2.373711e+06</td>\n",
              "      <td>2.415841e+06</td>\n",
              "      <td>114.000000</td>\n",
              "      <td>NaN</td>\n",
              "      <td>5.000000</td>\n",
              "      <td>29.500000</td>\n",
              "      <td>380.000000</td>\n",
              "      <td>NaN</td>\n",
              "    </tr>\n",
              "  </tbody>\n",
              "</table>\n",
              "</div>"
            ],
            "text/plain": [
              "                       DATE      STORE_NBR  ...      PACK_SIZE  BRAND_NAME\n",
              "count                246740  246740.000000  ...  246740.000000      246740\n",
              "unique                  364            NaN  ...            NaN          28\n",
              "top     2018-12-24 00:00:00            NaN  ...            NaN      Kettle\n",
              "freq                    865            NaN  ...            NaN       41288\n",
              "first   2018-07-01 00:00:00            NaN  ...            NaN         NaN\n",
              "last    2019-06-30 00:00:00            NaN  ...            NaN         NaN\n",
              "mean                    NaN     135.050361  ...     175.583521         NaN\n",
              "std                     NaN      76.786971  ...      59.432118         NaN\n",
              "min                     NaN       1.000000  ...      70.000000         NaN\n",
              "25%                     NaN      70.000000  ...     150.000000         NaN\n",
              "50%                     NaN     130.000000  ...     170.000000         NaN\n",
              "75%                     NaN     203.000000  ...     175.000000         NaN\n",
              "max                     NaN     272.000000  ...     380.000000         NaN\n",
              "\n",
              "[13 rows x 10 columns]"
            ]
          },
          "metadata": {
            "tags": []
          },
          "execution_count": 405
        }
      ]
    },
    {
      "cell_type": "code",
      "metadata": {
        "id": "MCAkVnQ9Uk7j",
        "colab_type": "code",
        "colab": {}
      },
      "source": [
        "# Max Pack size = 380 and Min Pack size = 70\n"
      ],
      "execution_count": null,
      "outputs": []
    },
    {
      "cell_type": "code",
      "metadata": {
        "id": "anPDkexlWfN4",
        "colab_type": "code",
        "colab": {
          "base_uri": "https://localhost:8080/",
          "height": 297
        },
        "outputId": "570a1371-3691-401c-b5a4-6493c9f5d221"
      },
      "source": [
        "sns.distplot(transaction_data[\"PACK_SIZE\"],kde = False)\n"
      ],
      "execution_count": null,
      "outputs": [
        {
          "output_type": "execute_result",
          "data": {
            "text/plain": [
              "<matplotlib.axes._subplots.AxesSubplot at 0x7f0dee123b00>"
            ]
          },
          "metadata": {
            "tags": []
          },
          "execution_count": 397
        },
        {
          "output_type": "display_data",
          "data": {
            "image/png": "[encoded data removed]",
            "text/plain": [
              "<Figure size 432x288 with 1 Axes>"
            ]
          },
          "metadata": {
            "tags": [],
            "needs_background": "light"
          }
        }
      ]
    },
    {
      "cell_type": "code",
      "metadata": {
        "id": "ekSKFDpiXqgl",
        "colab_type": "code",
        "colab": {
          "base_uri": "https://localhost:8080/",
          "height": 100
        },
        "outputId": "1e5c5379-f6e1-4a30-b69b-55bc8156227a"
      },
      "source": [
        "transaction_data[\"BRAND_NAME\"].describe()"
      ],
      "execution_count": null,
      "outputs": [
        {
          "output_type": "execute_result",
          "data": {
            "text/plain": [
              "count     246740\n",
              "unique        28\n",
              "top       Kettle\n",
              "freq       41288\n",
              "Name: BRAND_NAME, dtype: object"
            ]
          },
          "metadata": {
            "tags": []
          },
          "execution_count": 408
        }
      ]
    },
    {
      "cell_type": "code",
      "metadata": {
        "id": "qcZPpLY6bmrn",
        "colab_type": "code",
        "colab": {
          "base_uri": "https://localhost:8080/",
          "height": 117
        },
        "outputId": "854a5c6e-6a1c-4083-b5ac-6418a6210537"
      },
      "source": [
        "transaction_data[\"BRAND_NAME\"].head()"
      ],
      "execution_count": null,
      "outputs": [
        {
          "output_type": "execute_result",
          "data": {
            "text/plain": [
              "0    Natural\n",
              "1        CCs\n",
              "2     Smiths\n",
              "3     Smiths\n",
              "4     Kettle\n",
              "Name: BRAND_NAME, dtype: object"
            ]
          },
          "metadata": {
            "tags": []
          },
          "execution_count": 409
        }
      ]
    },
    {
      "cell_type": "code",
      "metadata": {
        "id": "n0tcEzeCcaJD",
        "colab_type": "code",
        "colab": {
          "base_uri": "https://localhost:8080/",
          "height": 100
        },
        "outputId": "8244c791-6de3-4eed-a42c-2c903fa1a498"
      },
      "source": [
        "transaction_data[\"BRAND_NAME\"].unique()"
      ],
      "execution_count": null,
      "outputs": [
        {
          "output_type": "execute_result",
          "data": {
            "text/plain": [
              "array(['Natural', 'CCs', 'Smiths', 'Kettle', 'Grain', 'Doritos',\n",
              "       'Twisties', 'WW', 'Thins', 'Burger', 'NCC', 'Cheezels', 'Infzns',\n",
              "       'Red', 'Pringles', 'Dorito', 'Infuzions', 'Smith', 'GrnWves',\n",
              "       'Tyrrells', 'Cobs', 'French', 'RRD', 'Tostitos', 'Cheetos',\n",
              "       'Woolworths', 'Snbts', 'Sunbites'], dtype=object)"
            ]
          },
          "metadata": {
            "tags": []
          },
          "execution_count": 411
        }
      ]
    },
    {
      "cell_type": "code",
      "metadata": {
        "id": "vqgus6dSdAlw",
        "colab_type": "code",
        "colab": {}
      },
      "source": [
        "transaction_data[\"BRAND_NAME\"] = transaction_data[\"BRAND_NAME\"].replace(\"RRD\",\"Red\")\n",
        "transaction_data[\"BRAND_NAME\"] = transaction_data[\"BRAND_NAME\"].replace(\"Smith\",\"Smiths\")\n",
        "transaction_data[\"BRAND_NAME\"] = transaction_data[\"BRAND_NAME\"].replace(\"Snbts\",\"Sunbites\")\n",
        "transaction_data[\"BRAND_NAME\"] = transaction_data[\"BRAND_NAME\"].replace(\"Dorito\",\"Doritos\")\n",
        "transaction_data[\"BRAND_NAME\"] = transaction_data[\"BRAND_NAME\"].replace(\"WW\",\"WoolWorths\") \n",
        "transaction_data[\"BRAND_NAME\"] = transaction_data[\"BRAND_NAME\"].replace(\"Infzns\",\"Infuzions\") "
      ],
      "execution_count": null,
      "outputs": []
    },
    {
      "cell_type": "code",
      "metadata": {
        "id": "TeZIVxDDeJIx",
        "colab_type": "code",
        "colab": {
          "base_uri": "https://localhost:8080/",
          "height": 401
        },
        "outputId": "48c51c9c-7fbe-45ae-8cf8-744d8af49179"
      },
      "source": [
        "transaction_data[\"BRAND_NAME\"].value_counts()"
      ],
      "execution_count": null,
      "outputs": [
        {
          "output_type": "execute_result",
          "data": {
            "text/plain": [
              "Kettle        41288\n",
              "Smiths        30353\n",
              "Doritos       25224\n",
              "Pringles      25102\n",
              "Red           16321\n",
              "Infuzions     14201\n",
              "Thins         14075\n",
              "WoolWorths    11836\n",
              "Cobs           9693\n",
              "Tostitos       9471\n",
              "Twisties       9454\n",
              "Tyrrells       6442\n",
              "Grain          6272\n",
              "Natural        6050\n",
              "Cheezels       4603\n",
              "CCs            4551\n",
              "Sunbites       3008\n",
              "Cheetos        2927\n",
              "Burger         1564\n",
              "GrnWves        1468\n",
              "NCC            1419\n",
              "French         1418\n",
              "Name: BRAND_NAME, dtype: int64"
            ]
          },
          "metadata": {
            "tags": []
          },
          "execution_count": 424
        }
      ]
    },
    {
      "cell_type": "markdown",
      "metadata": {
        "id": "wruWXx0rh-t9",
        "colab_type": "text"
      },
      "source": [
        "**CUSTOMER DATA**"
      ]
    },
    {
      "cell_type": "code",
      "metadata": {
        "id": "no_7Y5r0hK8c",
        "colab_type": "code",
        "colab": {}
      },
      "source": [
        "purchase_behaviour = pd.read_csv(\"QVI_purchase_behaviour.csv\")"
      ],
      "execution_count": null,
      "outputs": []
    },
    {
      "cell_type": "code",
      "metadata": {
        "id": "ePCZwCOVi2gW",
        "colab_type": "code",
        "colab": {
          "base_uri": "https://localhost:8080/",
          "height": 196
        },
        "outputId": "1fc3b2ab-8f90-4830-a24c-bf1082eea769"
      },
      "source": [
        "purchase_behaviour.head()"
      ],
      "execution_count": null,
      "outputs": [
        {
          "output_type": "execute_result",
          "data": {
            "text/html": [
              "<div>\n",
              "<style scoped>\n",
              "    .dataframe tbody tr th:only-of-type {\n",
              "        vertical-align: middle;\n",
              "    }\n",
              "\n",
              "    .dataframe tbody tr th {\n",
              "        vertical-align: top;\n",
              "    }\n",
              "\n",
              "    .dataframe thead th {\n",
              "        text-align: right;\n",
              "    }\n",
              "</style>\n",
              "<table border=\"1\" class=\"dataframe\">\n",
              "  <thead>\n",
              "    <tr style=\"text-align: right;\">\n",
              "      <th></th>\n",
              "      <th>LYLTY_CARD_NBR</th>\n",
              "      <th>LIFESTAGE</th>\n",
              "      <th>PREMIUM_CUSTOMER</th>\n",
              "    </tr>\n",
              "  </thead>\n",
              "  <tbody>\n",
              "    <tr>\n",
              "      <th>0</th>\n",
              "      <td>1000</td>\n",
              "      <td>YOUNG SINGLES/COUPLES</td>\n",
              "      <td>Premium</td>\n",
              "    </tr>\n",
              "    <tr>\n",
              "      <th>1</th>\n",
              "      <td>1002</td>\n",
              "      <td>YOUNG SINGLES/COUPLES</td>\n",
              "      <td>Mainstream</td>\n",
              "    </tr>\n",
              "    <tr>\n",
              "      <th>2</th>\n",
              "      <td>1003</td>\n",
              "      <td>YOUNG FAMILIES</td>\n",
              "      <td>Budget</td>\n",
              "    </tr>\n",
              "    <tr>\n",
              "      <th>3</th>\n",
              "      <td>1004</td>\n",
              "      <td>OLDER SINGLES/COUPLES</td>\n",
              "      <td>Mainstream</td>\n",
              "    </tr>\n",
              "    <tr>\n",
              "      <th>4</th>\n",
              "      <td>1005</td>\n",
              "      <td>MIDAGE SINGLES/COUPLES</td>\n",
              "      <td>Mainstream</td>\n",
              "    </tr>\n",
              "  </tbody>\n",
              "</table>\n",
              "</div>"
            ],
            "text/plain": [
              "   LYLTY_CARD_NBR               LIFESTAGE PREMIUM_CUSTOMER\n",
              "0            1000   YOUNG SINGLES/COUPLES          Premium\n",
              "1            1002   YOUNG SINGLES/COUPLES       Mainstream\n",
              "2            1003          YOUNG FAMILIES           Budget\n",
              "3            1004   OLDER SINGLES/COUPLES       Mainstream\n",
              "4            1005  MIDAGE SINGLES/COUPLES       Mainstream"
            ]
          },
          "metadata": {
            "tags": []
          },
          "execution_count": 455
        }
      ]
    },
    {
      "cell_type": "code",
      "metadata": {
        "id": "_QCzhh2ziyLB",
        "colab_type": "code",
        "colab": {
          "base_uri": "https://localhost:8080/",
          "height": 286
        },
        "outputId": "c08fc676-d2db-4b17-9a31-193012358c26"
      },
      "source": [
        "purchase_behaviour.describe()"
      ],
      "execution_count": null,
      "outputs": [
        {
          "output_type": "execute_result",
          "data": {
            "text/html": [
              "<div>\n",
              "<style scoped>\n",
              "    .dataframe tbody tr th:only-of-type {\n",
              "        vertical-align: middle;\n",
              "    }\n",
              "\n",
              "    .dataframe tbody tr th {\n",
              "        vertical-align: top;\n",
              "    }\n",
              "\n",
              "    .dataframe thead th {\n",
              "        text-align: right;\n",
              "    }\n",
              "</style>\n",
              "<table border=\"1\" class=\"dataframe\">\n",
              "  <thead>\n",
              "    <tr style=\"text-align: right;\">\n",
              "      <th></th>\n",
              "      <th>LYLTY_CARD_NBR</th>\n",
              "    </tr>\n",
              "  </thead>\n",
              "  <tbody>\n",
              "    <tr>\n",
              "      <th>count</th>\n",
              "      <td>7.263700e+04</td>\n",
              "    </tr>\n",
              "    <tr>\n",
              "      <th>mean</th>\n",
              "      <td>1.361859e+05</td>\n",
              "    </tr>\n",
              "    <tr>\n",
              "      <th>std</th>\n",
              "      <td>8.989293e+04</td>\n",
              "    </tr>\n",
              "    <tr>\n",
              "      <th>min</th>\n",
              "      <td>1.000000e+03</td>\n",
              "    </tr>\n",
              "    <tr>\n",
              "      <th>25%</th>\n",
              "      <td>6.620200e+04</td>\n",
              "    </tr>\n",
              "    <tr>\n",
              "      <th>50%</th>\n",
              "      <td>1.340400e+05</td>\n",
              "    </tr>\n",
              "    <tr>\n",
              "      <th>75%</th>\n",
              "      <td>2.033750e+05</td>\n",
              "    </tr>\n",
              "    <tr>\n",
              "      <th>max</th>\n",
              "      <td>2.373711e+06</td>\n",
              "    </tr>\n",
              "  </tbody>\n",
              "</table>\n",
              "</div>"
            ],
            "text/plain": [
              "       LYLTY_CARD_NBR\n",
              "count    7.263700e+04\n",
              "mean     1.361859e+05\n",
              "std      8.989293e+04\n",
              "min      1.000000e+03\n",
              "25%      6.620200e+04\n",
              "50%      1.340400e+05\n",
              "75%      2.033750e+05\n",
              "max      2.373711e+06"
            ]
          },
          "metadata": {
            "tags": []
          },
          "execution_count": 456
        }
      ]
    },
    {
      "cell_type": "code",
      "metadata": {
        "id": "l49_4rkUkHre",
        "colab_type": "code",
        "colab": {}
      },
      "source": [
        "from sklearn.preprocessing import LabelEncoder\n",
        "\n",
        "LE = LabelEncoder()\n",
        "Encoded_Lifestage = LE.fit_transform(purchase_behaviour[\"LIFESTAGE\"])"
      ],
      "execution_count": null,
      "outputs": []
    },
    {
      "cell_type": "code",
      "metadata": {
        "id": "ePFIwMXHl1X5",
        "colab_type": "code",
        "colab": {
          "base_uri": "https://localhost:8080/",
          "height": 286
        },
        "outputId": "14ed4238-1385-4e21-ba10-78821236f919"
      },
      "source": [
        "LABEL_INDEX = pd.DataFrame({\"Lifestages\": purchase_behaviour[\"LIFESTAGE\"].unique(), \"Encodings\":[i for i in range(int(purchase_behaviour[\"LIFESTAGE\"].nunique()))]})\n",
        "LABEL_INDEX.set_index(\"Encodings\")\n"
      ],
      "execution_count": null,
      "outputs": [
        {
          "output_type": "execute_result",
          "data": {
            "text/html": [
              "<div>\n",
              "<style scoped>\n",
              "    .dataframe tbody tr th:only-of-type {\n",
              "        vertical-align: middle;\n",
              "    }\n",
              "\n",
              "    .dataframe tbody tr th {\n",
              "        vertical-align: top;\n",
              "    }\n",
              "\n",
              "    .dataframe thead th {\n",
              "        text-align: right;\n",
              "    }\n",
              "</style>\n",
              "<table border=\"1\" class=\"dataframe\">\n",
              "  <thead>\n",
              "    <tr style=\"text-align: right;\">\n",
              "      <th></th>\n",
              "      <th>Lifestages</th>\n",
              "    </tr>\n",
              "    <tr>\n",
              "      <th>Encodings</th>\n",
              "      <th></th>\n",
              "    </tr>\n",
              "  </thead>\n",
              "  <tbody>\n",
              "    <tr>\n",
              "      <th>0</th>\n",
              "      <td>YOUNG SINGLES/COUPLES</td>\n",
              "    </tr>\n",
              "    <tr>\n",
              "      <th>1</th>\n",
              "      <td>YOUNG FAMILIES</td>\n",
              "    </tr>\n",
              "    <tr>\n",
              "      <th>2</th>\n",
              "      <td>OLDER SINGLES/COUPLES</td>\n",
              "    </tr>\n",
              "    <tr>\n",
              "      <th>3</th>\n",
              "      <td>MIDAGE SINGLES/COUPLES</td>\n",
              "    </tr>\n",
              "    <tr>\n",
              "      <th>4</th>\n",
              "      <td>NEW FAMILIES</td>\n",
              "    </tr>\n",
              "    <tr>\n",
              "      <th>5</th>\n",
              "      <td>OLDER FAMILIES</td>\n",
              "    </tr>\n",
              "    <tr>\n",
              "      <th>6</th>\n",
              "      <td>RETIREES</td>\n",
              "    </tr>\n",
              "  </tbody>\n",
              "</table>\n",
              "</div>"
            ],
            "text/plain": [
              "                       Lifestages\n",
              "Encodings                        \n",
              "0           YOUNG SINGLES/COUPLES\n",
              "1                  YOUNG FAMILIES\n",
              "2           OLDER SINGLES/COUPLES\n",
              "3          MIDAGE SINGLES/COUPLES\n",
              "4                    NEW FAMILIES\n",
              "5                  OLDER FAMILIES\n",
              "6                        RETIREES"
            ]
          },
          "metadata": {
            "tags": []
          },
          "execution_count": 458
        }
      ]
    },
    {
      "cell_type": "code",
      "metadata": {
        "id": "rrQx2Xz4i48Z",
        "colab_type": "code",
        "colab": {
          "base_uri": "https://localhost:8080/",
          "height": 281
        },
        "outputId": "5cf9c05a-245d-42ec-a4fe-755d322bb9c5"
      },
      "source": [
        "sns.distplot(Encoded_Lifestage, kde = False)"
      ],
      "execution_count": null,
      "outputs": [
        {
          "output_type": "execute_result",
          "data": {
            "text/plain": [
              "<matplotlib.axes._subplots.AxesSubplot at 0x7f0de4333668>"
            ]
          },
          "metadata": {
            "tags": []
          },
          "execution_count": 459
        },
        {
          "output_type": "display_data",
          "data": {
            "image/png": "[encoded data removed]",
            "text/plain": [
              "<Figure size 432x288 with 1 Axes>"
            ]
          },
          "metadata": {
            "tags": [],
            "needs_background": "light"
          }
        }
      ]
    },
    {
      "cell_type": "code",
      "metadata": {
        "id": "I8faOFGZjbyW",
        "colab_type": "code",
        "colab": {}
      },
      "source": [
        "data = pd.merge(transaction_data,purchase_behaviour)"
      ],
      "execution_count": null,
      "outputs": []
    },
    {
      "cell_type": "code",
      "metadata": {
        "id": "orQxG98hoHcW",
        "colab_type": "code",
        "colab": {
          "base_uri": "https://localhost:8080/",
          "height": 234
        },
        "outputId": "5fe9d5bb-21e4-40dc-b9d4-e5b21a89440f"
      },
      "source": [
        "data.isnull().sum()"
      ],
      "execution_count": null,
      "outputs": [
        {
          "output_type": "execute_result",
          "data": {
            "text/plain": [
              "DATE                0\n",
              "STORE_NBR           0\n",
              "LYLTY_CARD_NBR      0\n",
              "TXN_ID              0\n",
              "PROD_NBR            0\n",
              "PROD_NAME           0\n",
              "PROD_QTY            0\n",
              "TOT_SALES           0\n",
              "PACK_SIZE           0\n",
              "BRAND_NAME          0\n",
              "LIFESTAGE           0\n",
              "PREMIUM_CUSTOMER    0\n",
              "dtype: int64"
            ]
          },
          "metadata": {
            "tags": []
          },
          "execution_count": 461
        }
      ]
    },
    {
      "cell_type": "code",
      "metadata": {
        "id": "hzQsj_K0scN6",
        "colab_type": "code",
        "colab": {}
      },
      "source": [
        "# No Null values found!"
      ],
      "execution_count": null,
      "outputs": []
    }
  ]
}